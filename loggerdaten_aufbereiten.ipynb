{
 "cells": [
  {
   "cell_type": "code",
   "execution_count": 166,
   "metadata": {
    "vscode": {
     "languageId": "r"
    }
   },
   "outputs": [],
   "source": [
    "library(tidyverse)"
   ]
  },
  {
   "cell_type": "markdown",
   "metadata": {},
   "source": [
    "## Loggerdaten Aufbereiten"
   ]
  },
  {
   "cell_type": "code",
   "execution_count": 219,
   "metadata": {
    "vscode": {
     "languageId": "r"
    }
   },
   "outputs": [],
   "source": [
    "# defining a function to convert the time format from 12h to 24h\n",
    "change_to_24 = Vectorize(function(x) {\n",
    "    gsub(\"\\\\s+\", \"\", x) -> x\n",
    "    if (grepl(\"AM\", x)) {\n",
    "        substr(x, 1, nchar(x) - 3) -> new\n",
    "        strsplit(new, \":\")[[1]] -> temp\n",
    "        if (temp[1] == \"12\") {\n",
    "            temp[1] <- \"00\"\n",
    "        }\n",
    "        if (nchar(temp[1]) == 1) {\n",
    "            temp[1] <- paste0(\"0\", temp[1])\n",
    "        }\n",
    "        paste(temp, collapse = \":\") %>% as.character() -> out\n",
    "    }\n",
    "    else\n",
    "    {\n",
    "        substr(x, 1, nchar(x) - 3) -> new\n",
    "        strsplit(new, \":\")[[1]] -> temp\n",
    "        if (temp[1] != \"12\") {\n",
    "            temp[1] <- as.numeric(temp[1]) + 12\n",
    "        }\n",
    "        if (temp[1] == \"12\") {\n",
    "            temp[1] <- \"12\"\n",
    "        }\n",
    "        paste(temp, collapse = \":\") %>% as.character() -> out\n",
    "    }\n",
    "\n",
    "    return(out)\n",
    "}\n",
    ")\n",
    "\n",
    "# define function to ad leading zeros to the date\n",
    "add_zeros = function(x) {\n",
    "    if (nchar(x) == 1) {\n",
    "        paste0(\"0\", x) -> out\n",
    "    }\n",
    "    else\n",
    "    {\n",
    "        out <- x\n",
    "    }\n",
    "    return(out)\n",
    "}\n",
    "\n",
    "\n",
    "# defining a function to convert the date format\n",
    "date_conv = Vectorize(function(x) {\n",
    "    strsplit(x, \"/\")[[1]] -> temp\n",
    "    add_zeros(temp[1]) -> mm\n",
    "    add_zeros(temp[2]) -> dd\n",
    "    paste0(\"20\", temp[3]) -> yyyy\n",
    "    paste(yyyy, mm, dd, sep = \"-\") -> out\n",
    "    return(out)\n",
    "}\n",
    ")\n",
    "\n",
    "# defining a function to import and convert the data\n",
    "import_conv = function(source, name) {\n",
    "    read.csv(source, skip = 14) %>% \n",
    "    as_tibble() %>%\n",
    "    mutate(\n",
    "        time = paste(date_conv(Date), change_to_24(Time)) %>% as_datetime()\n",
    "    ) %>% select(time, !!sym(name) := Value) -> out\n",
    "    return(out)\n",
    "}\n",
    "\n",
    "# defining a function to import and merge all the files\n",
    "import_merge = function(source, name) {\n",
    "    full_join(import_conv(source[1], name[1]), import_conv(source[2], name[2]), by = \"time\") %>%\n",
    "                 full_join(import_conv(source[3], name[3]), by = \"time\") -> out\n",
    "    return(out)\n",
    "}"
   ]
  },
  {
   "cell_type": "code",
   "execution_count": 217,
   "metadata": {
    "vscode": {
     "languageId": "r"
    }
   },
   "outputs": [],
   "source": [
    "c(\"./data/raw/logger/LoggerGruppe3ober.csv\", \"./data/raw/logger/LoggerGruppe3unten1.csv\",\"./data/raw/logger/LoggerGruppe3unten2.csv\")-> source\n",
    "c(\"ober\", \"unter1\", \"unter2\") -> name\n",
    "\n",
    "import_merge(source, name) %>% write.csv(\"./data/logger_winter.csv\", row.names = FALSE)"
   ]
  }
 ],
 "metadata": {
  "kernelspec": {
   "display_name": "R",
   "language": "R",
   "name": "ir"
  },
  "language_info": {
   "codemirror_mode": "r",
   "file_extension": ".r",
   "mimetype": "text/x-r-source",
   "name": "R",
   "pygments_lexer": "r",
   "version": "4.3.1"
  }
 },
 "nbformat": 4,
 "nbformat_minor": 2
}
